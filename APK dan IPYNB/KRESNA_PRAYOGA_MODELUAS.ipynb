{
  "nbformat": 4,
  "nbformat_minor": 0,
  "metadata": {
    "colab": {
      "provenance": []
    },
    "kernelspec": {
      "name": "python3",
      "display_name": "Python 3"
    },
    "language_info": {
      "name": "python"
    }
  },
  "cells": [
    {
      "cell_type": "code",
      "execution_count": 1,
      "metadata": {
        "colab": {
          "base_uri": "https://localhost:8080/",
          "height": 90
        },
        "id": "izjUPkU9ytGo",
        "outputId": "72ff8aca-ab26-4a59-e81a-250e97de2646"
      },
      "outputs": [
        {
          "output_type": "display_data",
          "data": {
            "text/plain": [
              "<IPython.core.display.HTML object>"
            ],
            "text/html": [
              "\n",
              "     <input type=\"file\" id=\"files-5442bf88-e0fc-4171-ba95-2a6e986bb869\" name=\"files[]\" multiple disabled\n",
              "        style=\"border:none\" />\n",
              "     <output id=\"result-5442bf88-e0fc-4171-ba95-2a6e986bb869\">\n",
              "      Upload widget is only available when the cell has been executed in the\n",
              "      current browser session. Please rerun this cell to enable.\n",
              "      </output>\n",
              "      <script>// Copyright 2017 Google LLC\n",
              "//\n",
              "// Licensed under the Apache License, Version 2.0 (the \"License\");\n",
              "// you may not use this file except in compliance with the License.\n",
              "// You may obtain a copy of the License at\n",
              "//\n",
              "//      http://www.apache.org/licenses/LICENSE-2.0\n",
              "//\n",
              "// Unless required by applicable law or agreed to in writing, software\n",
              "// distributed under the License is distributed on an \"AS IS\" BASIS,\n",
              "// WITHOUT WARRANTIES OR CONDITIONS OF ANY KIND, either express or implied.\n",
              "// See the License for the specific language governing permissions and\n",
              "// limitations under the License.\n",
              "\n",
              "/**\n",
              " * @fileoverview Helpers for google.colab Python module.\n",
              " */\n",
              "(function(scope) {\n",
              "function span(text, styleAttributes = {}) {\n",
              "  const element = document.createElement('span');\n",
              "  element.textContent = text;\n",
              "  for (const key of Object.keys(styleAttributes)) {\n",
              "    element.style[key] = styleAttributes[key];\n",
              "  }\n",
              "  return element;\n",
              "}\n",
              "\n",
              "// Max number of bytes which will be uploaded at a time.\n",
              "const MAX_PAYLOAD_SIZE = 100 * 1024;\n",
              "\n",
              "function _uploadFiles(inputId, outputId) {\n",
              "  const steps = uploadFilesStep(inputId, outputId);\n",
              "  const outputElement = document.getElementById(outputId);\n",
              "  // Cache steps on the outputElement to make it available for the next call\n",
              "  // to uploadFilesContinue from Python.\n",
              "  outputElement.steps = steps;\n",
              "\n",
              "  return _uploadFilesContinue(outputId);\n",
              "}\n",
              "\n",
              "// This is roughly an async generator (not supported in the browser yet),\n",
              "// where there are multiple asynchronous steps and the Python side is going\n",
              "// to poll for completion of each step.\n",
              "// This uses a Promise to block the python side on completion of each step,\n",
              "// then passes the result of the previous step as the input to the next step.\n",
              "function _uploadFilesContinue(outputId) {\n",
              "  const outputElement = document.getElementById(outputId);\n",
              "  const steps = outputElement.steps;\n",
              "\n",
              "  const next = steps.next(outputElement.lastPromiseValue);\n",
              "  return Promise.resolve(next.value.promise).then((value) => {\n",
              "    // Cache the last promise value to make it available to the next\n",
              "    // step of the generator.\n",
              "    outputElement.lastPromiseValue = value;\n",
              "    return next.value.response;\n",
              "  });\n",
              "}\n",
              "\n",
              "/**\n",
              " * Generator function which is called between each async step of the upload\n",
              " * process.\n",
              " * @param {string} inputId Element ID of the input file picker element.\n",
              " * @param {string} outputId Element ID of the output display.\n",
              " * @return {!Iterable<!Object>} Iterable of next steps.\n",
              " */\n",
              "function* uploadFilesStep(inputId, outputId) {\n",
              "  const inputElement = document.getElementById(inputId);\n",
              "  inputElement.disabled = false;\n",
              "\n",
              "  const outputElement = document.getElementById(outputId);\n",
              "  outputElement.innerHTML = '';\n",
              "\n",
              "  const pickedPromise = new Promise((resolve) => {\n",
              "    inputElement.addEventListener('change', (e) => {\n",
              "      resolve(e.target.files);\n",
              "    });\n",
              "  });\n",
              "\n",
              "  const cancel = document.createElement('button');\n",
              "  inputElement.parentElement.appendChild(cancel);\n",
              "  cancel.textContent = 'Cancel upload';\n",
              "  const cancelPromise = new Promise((resolve) => {\n",
              "    cancel.onclick = () => {\n",
              "      resolve(null);\n",
              "    };\n",
              "  });\n",
              "\n",
              "  // Wait for the user to pick the files.\n",
              "  const files = yield {\n",
              "    promise: Promise.race([pickedPromise, cancelPromise]),\n",
              "    response: {\n",
              "      action: 'starting',\n",
              "    }\n",
              "  };\n",
              "\n",
              "  cancel.remove();\n",
              "\n",
              "  // Disable the input element since further picks are not allowed.\n",
              "  inputElement.disabled = true;\n",
              "\n",
              "  if (!files) {\n",
              "    return {\n",
              "      response: {\n",
              "        action: 'complete',\n",
              "      }\n",
              "    };\n",
              "  }\n",
              "\n",
              "  for (const file of files) {\n",
              "    const li = document.createElement('li');\n",
              "    li.append(span(file.name, {fontWeight: 'bold'}));\n",
              "    li.append(span(\n",
              "        `(${file.type || 'n/a'}) - ${file.size} bytes, ` +\n",
              "        `last modified: ${\n",
              "            file.lastModifiedDate ? file.lastModifiedDate.toLocaleDateString() :\n",
              "                                    'n/a'} - `));\n",
              "    const percent = span('0% done');\n",
              "    li.appendChild(percent);\n",
              "\n",
              "    outputElement.appendChild(li);\n",
              "\n",
              "    const fileDataPromise = new Promise((resolve) => {\n",
              "      const reader = new FileReader();\n",
              "      reader.onload = (e) => {\n",
              "        resolve(e.target.result);\n",
              "      };\n",
              "      reader.readAsArrayBuffer(file);\n",
              "    });\n",
              "    // Wait for the data to be ready.\n",
              "    let fileData = yield {\n",
              "      promise: fileDataPromise,\n",
              "      response: {\n",
              "        action: 'continue',\n",
              "      }\n",
              "    };\n",
              "\n",
              "    // Use a chunked sending to avoid message size limits. See b/62115660.\n",
              "    let position = 0;\n",
              "    do {\n",
              "      const length = Math.min(fileData.byteLength - position, MAX_PAYLOAD_SIZE);\n",
              "      const chunk = new Uint8Array(fileData, position, length);\n",
              "      position += length;\n",
              "\n",
              "      const base64 = btoa(String.fromCharCode.apply(null, chunk));\n",
              "      yield {\n",
              "        response: {\n",
              "          action: 'append',\n",
              "          file: file.name,\n",
              "          data: base64,\n",
              "        },\n",
              "      };\n",
              "\n",
              "      let percentDone = fileData.byteLength === 0 ?\n",
              "          100 :\n",
              "          Math.round((position / fileData.byteLength) * 100);\n",
              "      percent.textContent = `${percentDone}% done`;\n",
              "\n",
              "    } while (position < fileData.byteLength);\n",
              "  }\n",
              "\n",
              "  // All done.\n",
              "  yield {\n",
              "    response: {\n",
              "      action: 'complete',\n",
              "    }\n",
              "  };\n",
              "}\n",
              "\n",
              "scope.google = scope.google || {};\n",
              "scope.google.colab = scope.google.colab || {};\n",
              "scope.google.colab._files = {\n",
              "  _uploadFiles,\n",
              "  _uploadFilesContinue,\n",
              "};\n",
              "})(self);\n",
              "</script> "
            ]
          },
          "metadata": {}
        },
        {
          "output_type": "stream",
          "name": "stdout",
          "text": [
            "Saving kaggle.json to kaggle.json\n"
          ]
        },
        {
          "output_type": "execute_result",
          "data": {
            "text/plain": [
              "{'kaggle.json': b'{\"username\":\"kresnaprayoga\",\"key\":\"85d67bd71378f9e436d214702f5c0059\"}'}"
            ]
          },
          "metadata": {},
          "execution_count": 1
        }
      ],
      "source": [
        "from google.colab import files\n",
        "files.upload()"
      ]
    },
    {
      "cell_type": "code",
      "source": [
        "!mkdir -p ~/.kaggle\n",
        "!cp kaggle.json ~/.kaggle/\n",
        "!chmod 600 ~/.kaggle/kaggle.json\n",
        "!ls ~/.kaggle"
      ],
      "metadata": {
        "colab": {
          "base_uri": "https://localhost:8080/"
        },
        "id": "H7LYep1azppD",
        "outputId": "a3c5a6f4-840a-4260-cb8c-93096988b794"
      },
      "execution_count": 2,
      "outputs": [
        {
          "output_type": "stream",
          "name": "stdout",
          "text": [
            "kaggle.json\n"
          ]
        }
      ]
    },
    {
      "cell_type": "code",
      "source": [
        "!kaggle datasets download -d nelgiriyewithana/apple-quality"
      ],
      "metadata": {
        "colab": {
          "base_uri": "https://localhost:8080/"
        },
        "id": "6fF1cCuEzt3e",
        "outputId": "559c72fb-d8fa-41c2-e6c5-4064b97f5cb4"
      },
      "execution_count": 3,
      "outputs": [
        {
          "output_type": "stream",
          "name": "stdout",
          "text": [
            "Dataset URL: https://www.kaggle.com/datasets/nelgiriyewithana/apple-quality\n",
            "License(s): other\n",
            "Downloading apple-quality.zip to /content\n",
            "  0% 0.00/170k [00:00<?, ?B/s]\n",
            "100% 170k/170k [00:00<00:00, 18.8MB/s]\n"
          ]
        }
      ]
    },
    {
      "cell_type": "code",
      "source": [
        "!unzip apple-quality.zip -d apple-quality\n",
        "!ls apple-quality"
      ],
      "metadata": {
        "colab": {
          "base_uri": "https://localhost:8080/"
        },
        "id": "Jtyp4j6Tz0bj",
        "outputId": "ac055f43-57c3-4bc6-bdfd-6a6cc2e0ffc1"
      },
      "execution_count": 4,
      "outputs": [
        {
          "output_type": "stream",
          "name": "stdout",
          "text": [
            "Archive:  apple-quality.zip\n",
            "  inflating: apple-quality/apple_quality.csv  \n",
            "apple_quality.csv\n"
          ]
        }
      ]
    },
    {
      "cell_type": "code",
      "source": [
        "import pandas as pd\n",
        "from sklearn import preprocessing\n",
        "from sklearn.model_selection import train_test_split\n",
        "import numpy as np\n",
        "import tensorflow as tf\n",
        "from tensorflow import keras\n",
        "from keras.models import Sequential\n",
        "from keras.layers import Dense\n",
        "from tensorflow.keras.utils import plot_model"
      ],
      "metadata": {
        "id": "c2HqEhZA0E6L"
      },
      "execution_count": 23,
      "outputs": []
    },
    {
      "cell_type": "code",
      "source": [
        "df = pd.read_csv(\"/content/apple-quality/apple_quality.csv\")\n",
        "df.head()"
      ],
      "metadata": {
        "colab": {
          "base_uri": "https://localhost:8080/",
          "height": 206
        },
        "id": "ZKE7lMDZ0GWK",
        "outputId": "740f3036-2346-4af1-f88f-64cbd7d22c81"
      },
      "execution_count": 6,
      "outputs": [
        {
          "output_type": "execute_result",
          "data": {
            "text/plain": [
              "   A_id      Size    Weight  Sweetness  Crunchiness  Juiciness  Ripeness  \\\n",
              "0   0.0 -3.970049 -2.512336   5.346330    -1.012009   1.844900  0.329840   \n",
              "1   1.0 -1.195217 -2.839257   3.664059     1.588232   0.853286  0.867530   \n",
              "2   2.0 -0.292024 -1.351282  -1.738429    -0.342616   2.838636 -0.038033   \n",
              "3   3.0 -0.657196 -2.271627   1.324874    -0.097875   3.637970 -3.413761   \n",
              "4   4.0  1.364217 -1.296612  -0.384658    -0.553006   3.030874 -1.303849   \n",
              "\n",
              "        Acidity Quality  \n",
              "0  -0.491590483    good  \n",
              "1  -0.722809367    good  \n",
              "2   2.621636473     bad  \n",
              "3   0.790723217    good  \n",
              "4   0.501984036    good  "
            ],
            "text/html": [
              "\n",
              "  <div id=\"df-aafd76e3-0e52-4107-ad05-94b855cb6555\" class=\"colab-df-container\">\n",
              "    <div>\n",
              "<style scoped>\n",
              "    .dataframe tbody tr th:only-of-type {\n",
              "        vertical-align: middle;\n",
              "    }\n",
              "\n",
              "    .dataframe tbody tr th {\n",
              "        vertical-align: top;\n",
              "    }\n",
              "\n",
              "    .dataframe thead th {\n",
              "        text-align: right;\n",
              "    }\n",
              "</style>\n",
              "<table border=\"1\" class=\"dataframe\">\n",
              "  <thead>\n",
              "    <tr style=\"text-align: right;\">\n",
              "      <th></th>\n",
              "      <th>A_id</th>\n",
              "      <th>Size</th>\n",
              "      <th>Weight</th>\n",
              "      <th>Sweetness</th>\n",
              "      <th>Crunchiness</th>\n",
              "      <th>Juiciness</th>\n",
              "      <th>Ripeness</th>\n",
              "      <th>Acidity</th>\n",
              "      <th>Quality</th>\n",
              "    </tr>\n",
              "  </thead>\n",
              "  <tbody>\n",
              "    <tr>\n",
              "      <th>0</th>\n",
              "      <td>0.0</td>\n",
              "      <td>-3.970049</td>\n",
              "      <td>-2.512336</td>\n",
              "      <td>5.346330</td>\n",
              "      <td>-1.012009</td>\n",
              "      <td>1.844900</td>\n",
              "      <td>0.329840</td>\n",
              "      <td>-0.491590483</td>\n",
              "      <td>good</td>\n",
              "    </tr>\n",
              "    <tr>\n",
              "      <th>1</th>\n",
              "      <td>1.0</td>\n",
              "      <td>-1.195217</td>\n",
              "      <td>-2.839257</td>\n",
              "      <td>3.664059</td>\n",
              "      <td>1.588232</td>\n",
              "      <td>0.853286</td>\n",
              "      <td>0.867530</td>\n",
              "      <td>-0.722809367</td>\n",
              "      <td>good</td>\n",
              "    </tr>\n",
              "    <tr>\n",
              "      <th>2</th>\n",
              "      <td>2.0</td>\n",
              "      <td>-0.292024</td>\n",
              "      <td>-1.351282</td>\n",
              "      <td>-1.738429</td>\n",
              "      <td>-0.342616</td>\n",
              "      <td>2.838636</td>\n",
              "      <td>-0.038033</td>\n",
              "      <td>2.621636473</td>\n",
              "      <td>bad</td>\n",
              "    </tr>\n",
              "    <tr>\n",
              "      <th>3</th>\n",
              "      <td>3.0</td>\n",
              "      <td>-0.657196</td>\n",
              "      <td>-2.271627</td>\n",
              "      <td>1.324874</td>\n",
              "      <td>-0.097875</td>\n",
              "      <td>3.637970</td>\n",
              "      <td>-3.413761</td>\n",
              "      <td>0.790723217</td>\n",
              "      <td>good</td>\n",
              "    </tr>\n",
              "    <tr>\n",
              "      <th>4</th>\n",
              "      <td>4.0</td>\n",
              "      <td>1.364217</td>\n",
              "      <td>-1.296612</td>\n",
              "      <td>-0.384658</td>\n",
              "      <td>-0.553006</td>\n",
              "      <td>3.030874</td>\n",
              "      <td>-1.303849</td>\n",
              "      <td>0.501984036</td>\n",
              "      <td>good</td>\n",
              "    </tr>\n",
              "  </tbody>\n",
              "</table>\n",
              "</div>\n",
              "    <div class=\"colab-df-buttons\">\n",
              "\n",
              "  <div class=\"colab-df-container\">\n",
              "    <button class=\"colab-df-convert\" onclick=\"convertToInteractive('df-aafd76e3-0e52-4107-ad05-94b855cb6555')\"\n",
              "            title=\"Convert this dataframe to an interactive table.\"\n",
              "            style=\"display:none;\">\n",
              "\n",
              "  <svg xmlns=\"http://www.w3.org/2000/svg\" height=\"24px\" viewBox=\"0 -960 960 960\">\n",
              "    <path d=\"M120-120v-720h720v720H120Zm60-500h600v-160H180v160Zm220 220h160v-160H400v160Zm0 220h160v-160H400v160ZM180-400h160v-160H180v160Zm440 0h160v-160H620v160ZM180-180h160v-160H180v160Zm440 0h160v-160H620v160Z\"/>\n",
              "  </svg>\n",
              "    </button>\n",
              "\n",
              "  <style>\n",
              "    .colab-df-container {\n",
              "      display:flex;\n",
              "      gap: 12px;\n",
              "    }\n",
              "\n",
              "    .colab-df-convert {\n",
              "      background-color: #E8F0FE;\n",
              "      border: none;\n",
              "      border-radius: 50%;\n",
              "      cursor: pointer;\n",
              "      display: none;\n",
              "      fill: #1967D2;\n",
              "      height: 32px;\n",
              "      padding: 0 0 0 0;\n",
              "      width: 32px;\n",
              "    }\n",
              "\n",
              "    .colab-df-convert:hover {\n",
              "      background-color: #E2EBFA;\n",
              "      box-shadow: 0px 1px 2px rgba(60, 64, 67, 0.3), 0px 1px 3px 1px rgba(60, 64, 67, 0.15);\n",
              "      fill: #174EA6;\n",
              "    }\n",
              "\n",
              "    .colab-df-buttons div {\n",
              "      margin-bottom: 4px;\n",
              "    }\n",
              "\n",
              "    [theme=dark] .colab-df-convert {\n",
              "      background-color: #3B4455;\n",
              "      fill: #D2E3FC;\n",
              "    }\n",
              "\n",
              "    [theme=dark] .colab-df-convert:hover {\n",
              "      background-color: #434B5C;\n",
              "      box-shadow: 0px 1px 3px 1px rgba(0, 0, 0, 0.15);\n",
              "      filter: drop-shadow(0px 1px 2px rgba(0, 0, 0, 0.3));\n",
              "      fill: #FFFFFF;\n",
              "    }\n",
              "  </style>\n",
              "\n",
              "    <script>\n",
              "      const buttonEl =\n",
              "        document.querySelector('#df-aafd76e3-0e52-4107-ad05-94b855cb6555 button.colab-df-convert');\n",
              "      buttonEl.style.display =\n",
              "        google.colab.kernel.accessAllowed ? 'block' : 'none';\n",
              "\n",
              "      async function convertToInteractive(key) {\n",
              "        const element = document.querySelector('#df-aafd76e3-0e52-4107-ad05-94b855cb6555');\n",
              "        const dataTable =\n",
              "          await google.colab.kernel.invokeFunction('convertToInteractive',\n",
              "                                                    [key], {});\n",
              "        if (!dataTable) return;\n",
              "\n",
              "        const docLinkHtml = 'Like what you see? Visit the ' +\n",
              "          '<a target=\"_blank\" href=https://colab.research.google.com/notebooks/data_table.ipynb>data table notebook</a>'\n",
              "          + ' to learn more about interactive tables.';\n",
              "        element.innerHTML = '';\n",
              "        dataTable['output_type'] = 'display_data';\n",
              "        await google.colab.output.renderOutput(dataTable, element);\n",
              "        const docLink = document.createElement('div');\n",
              "        docLink.innerHTML = docLinkHtml;\n",
              "        element.appendChild(docLink);\n",
              "      }\n",
              "    </script>\n",
              "  </div>\n",
              "\n",
              "\n",
              "<div id=\"df-31306b0e-9742-4a30-b065-a347f6545e9f\">\n",
              "  <button class=\"colab-df-quickchart\" onclick=\"quickchart('df-31306b0e-9742-4a30-b065-a347f6545e9f')\"\n",
              "            title=\"Suggest charts\"\n",
              "            style=\"display:none;\">\n",
              "\n",
              "<svg xmlns=\"http://www.w3.org/2000/svg\" height=\"24px\"viewBox=\"0 0 24 24\"\n",
              "     width=\"24px\">\n",
              "    <g>\n",
              "        <path d=\"M19 3H5c-1.1 0-2 .9-2 2v14c0 1.1.9 2 2 2h14c1.1 0 2-.9 2-2V5c0-1.1-.9-2-2-2zM9 17H7v-7h2v7zm4 0h-2V7h2v10zm4 0h-2v-4h2v4z\"/>\n",
              "    </g>\n",
              "</svg>\n",
              "  </button>\n",
              "\n",
              "<style>\n",
              "  .colab-df-quickchart {\n",
              "      --bg-color: #E8F0FE;\n",
              "      --fill-color: #1967D2;\n",
              "      --hover-bg-color: #E2EBFA;\n",
              "      --hover-fill-color: #174EA6;\n",
              "      --disabled-fill-color: #AAA;\n",
              "      --disabled-bg-color: #DDD;\n",
              "  }\n",
              "\n",
              "  [theme=dark] .colab-df-quickchart {\n",
              "      --bg-color: #3B4455;\n",
              "      --fill-color: #D2E3FC;\n",
              "      --hover-bg-color: #434B5C;\n",
              "      --hover-fill-color: #FFFFFF;\n",
              "      --disabled-bg-color: #3B4455;\n",
              "      --disabled-fill-color: #666;\n",
              "  }\n",
              "\n",
              "  .colab-df-quickchart {\n",
              "    background-color: var(--bg-color);\n",
              "    border: none;\n",
              "    border-radius: 50%;\n",
              "    cursor: pointer;\n",
              "    display: none;\n",
              "    fill: var(--fill-color);\n",
              "    height: 32px;\n",
              "    padding: 0;\n",
              "    width: 32px;\n",
              "  }\n",
              "\n",
              "  .colab-df-quickchart:hover {\n",
              "    background-color: var(--hover-bg-color);\n",
              "    box-shadow: 0 1px 2px rgba(60, 64, 67, 0.3), 0 1px 3px 1px rgba(60, 64, 67, 0.15);\n",
              "    fill: var(--button-hover-fill-color);\n",
              "  }\n",
              "\n",
              "  .colab-df-quickchart-complete:disabled,\n",
              "  .colab-df-quickchart-complete:disabled:hover {\n",
              "    background-color: var(--disabled-bg-color);\n",
              "    fill: var(--disabled-fill-color);\n",
              "    box-shadow: none;\n",
              "  }\n",
              "\n",
              "  .colab-df-spinner {\n",
              "    border: 2px solid var(--fill-color);\n",
              "    border-color: transparent;\n",
              "    border-bottom-color: var(--fill-color);\n",
              "    animation:\n",
              "      spin 1s steps(1) infinite;\n",
              "  }\n",
              "\n",
              "  @keyframes spin {\n",
              "    0% {\n",
              "      border-color: transparent;\n",
              "      border-bottom-color: var(--fill-color);\n",
              "      border-left-color: var(--fill-color);\n",
              "    }\n",
              "    20% {\n",
              "      border-color: transparent;\n",
              "      border-left-color: var(--fill-color);\n",
              "      border-top-color: var(--fill-color);\n",
              "    }\n",
              "    30% {\n",
              "      border-color: transparent;\n",
              "      border-left-color: var(--fill-color);\n",
              "      border-top-color: var(--fill-color);\n",
              "      border-right-color: var(--fill-color);\n",
              "    }\n",
              "    40% {\n",
              "      border-color: transparent;\n",
              "      border-right-color: var(--fill-color);\n",
              "      border-top-color: var(--fill-color);\n",
              "    }\n",
              "    60% {\n",
              "      border-color: transparent;\n",
              "      border-right-color: var(--fill-color);\n",
              "    }\n",
              "    80% {\n",
              "      border-color: transparent;\n",
              "      border-right-color: var(--fill-color);\n",
              "      border-bottom-color: var(--fill-color);\n",
              "    }\n",
              "    90% {\n",
              "      border-color: transparent;\n",
              "      border-bottom-color: var(--fill-color);\n",
              "    }\n",
              "  }\n",
              "</style>\n",
              "\n",
              "  <script>\n",
              "    async function quickchart(key) {\n",
              "      const quickchartButtonEl =\n",
              "        document.querySelector('#' + key + ' button');\n",
              "      quickchartButtonEl.disabled = true;  // To prevent multiple clicks.\n",
              "      quickchartButtonEl.classList.add('colab-df-spinner');\n",
              "      try {\n",
              "        const charts = await google.colab.kernel.invokeFunction(\n",
              "            'suggestCharts', [key], {});\n",
              "      } catch (error) {\n",
              "        console.error('Error during call to suggestCharts:', error);\n",
              "      }\n",
              "      quickchartButtonEl.classList.remove('colab-df-spinner');\n",
              "      quickchartButtonEl.classList.add('colab-df-quickchart-complete');\n",
              "    }\n",
              "    (() => {\n",
              "      let quickchartButtonEl =\n",
              "        document.querySelector('#df-31306b0e-9742-4a30-b065-a347f6545e9f button');\n",
              "      quickchartButtonEl.style.display =\n",
              "        google.colab.kernel.accessAllowed ? 'block' : 'none';\n",
              "    })();\n",
              "  </script>\n",
              "</div>\n",
              "\n",
              "    </div>\n",
              "  </div>\n"
            ],
            "application/vnd.google.colaboratory.intrinsic+json": {
              "type": "dataframe",
              "variable_name": "df",
              "summary": "{\n  \"name\": \"df\",\n  \"rows\": 4001,\n  \"fields\": [\n    {\n      \"column\": \"A_id\",\n      \"properties\": {\n        \"dtype\": \"number\",\n        \"std\": 1154.8448669265786,\n        \"min\": 0.0,\n        \"max\": 3999.0,\n        \"num_unique_values\": 4000,\n        \"samples\": [\n          555.0,\n          3491.0,\n          527.0\n        ],\n        \"semantic_type\": \"\",\n        \"description\": \"\"\n      }\n    },\n    {\n      \"column\": \"Size\",\n      \"properties\": {\n        \"dtype\": \"number\",\n        \"std\": 1.928058688854979,\n        \"min\": -7.151703059,\n        \"max\": 6.406366899,\n        \"num_unique_values\": 4000,\n        \"samples\": [\n          3.099410637,\n          1.439787602,\n          1.20678634\n        ],\n        \"semantic_type\": \"\",\n        \"description\": \"\"\n      }\n    },\n    {\n      \"column\": \"Weight\",\n      \"properties\": {\n        \"dtype\": \"number\",\n        \"std\": 1.6025072141517547,\n        \"min\": -7.149847675,\n        \"max\": 5.79071359,\n        \"num_unique_values\": 4000,\n        \"samples\": [\n          -1.691560679,\n          -0.223976263,\n          -0.508979201\n        ],\n        \"semantic_type\": \"\",\n        \"description\": \"\"\n      }\n    },\n    {\n      \"column\": \"Sweetness\",\n      \"properties\": {\n        \"dtype\": \"number\",\n        \"std\": 1.943440658920452,\n        \"min\": -6.894485494,\n        \"max\": 6.374915513,\n        \"num_unique_values\": 4000,\n        \"samples\": [\n          -3.679364,\n          -0.061448613,\n          1.736206944\n        ],\n        \"semantic_type\": \"\",\n        \"description\": \"\"\n      }\n    },\n    {\n      \"column\": \"Crunchiness\",\n      \"properties\": {\n        \"dtype\": \"number\",\n        \"std\": 1.402757204211963,\n        \"min\": -6.055057805,\n        \"max\": 7.619851801,\n        \"num_unique_values\": 4000,\n        \"samples\": [\n          0.963605627,\n          1.412704629,\n          1.301010753\n        ],\n        \"semantic_type\": \"\",\n        \"description\": \"\"\n      }\n    },\n    {\n      \"column\": \"Juiciness\",\n      \"properties\": {\n        \"dtype\": \"number\",\n        \"std\": 1.9302856730942946,\n        \"min\": -5.961897048,\n        \"max\": 7.364402864,\n        \"num_unique_values\": 4000,\n        \"samples\": [\n          0.538102393,\n          0.885640988,\n          -0.556148589\n        ],\n        \"semantic_type\": \"\",\n        \"description\": \"\"\n      }\n    },\n    {\n      \"column\": \"Ripeness\",\n      \"properties\": {\n        \"dtype\": \"number\",\n        \"std\": 1.8744267757033417,\n        \"min\": -5.864598918,\n        \"max\": 7.237836684,\n        \"num_unique_values\": 4000,\n        \"samples\": [\n          1.660099378,\n          -2.191810607,\n          -1.332051678\n        ],\n        \"semantic_type\": \"\",\n        \"description\": \"\"\n      }\n    },\n    {\n      \"column\": \"Acidity\",\n      \"properties\": {\n        \"dtype\": \"string\",\n        \"num_unique_values\": 4001,\n        \"samples\": [\n          \"-0.544761148\",\n          \"0.766026809\",\n          \"1.009155619\"\n        ],\n        \"semantic_type\": \"\",\n        \"description\": \"\"\n      }\n    },\n    {\n      \"column\": \"Quality\",\n      \"properties\": {\n        \"dtype\": \"category\",\n        \"num_unique_values\": 2,\n        \"samples\": [\n          \"bad\",\n          \"good\"\n        ],\n        \"semantic_type\": \"\",\n        \"description\": \"\"\n      }\n    }\n  ]\n}"
            }
          },
          "metadata": {},
          "execution_count": 6
        }
      ]
    },
    {
      "cell_type": "code",
      "source": [
        "df.Quality[df.Quality == 'bad'] = 0\n",
        "df.Quality[df.Quality == 'good'] = 1"
      ],
      "metadata": {
        "colab": {
          "base_uri": "https://localhost:8080/"
        },
        "id": "fiDUBQnR-xOL",
        "outputId": "35245a1a-f19d-428c-c84d-710c2ac4ac59"
      },
      "execution_count": 7,
      "outputs": [
        {
          "output_type": "stream",
          "name": "stderr",
          "text": [
            "<ipython-input-7-c9493459cbed>:1: SettingWithCopyWarning: \n",
            "A value is trying to be set on a copy of a slice from a DataFrame\n",
            "\n",
            "See the caveats in the documentation: https://pandas.pydata.org/pandas-docs/stable/user_guide/indexing.html#returning-a-view-versus-a-copy\n",
            "  df.Quality[df.Quality == 'bad'] = 0\n",
            "<ipython-input-7-c9493459cbed>:2: SettingWithCopyWarning: \n",
            "A value is trying to be set on a copy of a slice from a DataFrame\n",
            "\n",
            "See the caveats in the documentation: https://pandas.pydata.org/pandas-docs/stable/user_guide/indexing.html#returning-a-view-versus-a-copy\n",
            "  df.Quality[df.Quality == 'good'] = 1\n"
          ]
        }
      ]
    },
    {
      "cell_type": "code",
      "source": [
        "df['Acidity'] = pd.to_numeric(df['Acidity'], errors='coerce')\n",
        "df['Acidity'].fillna(0, inplace=True)\n",
        "df['Quality'].fillna(0, inplace=True)"
      ],
      "metadata": {
        "id": "DpJ0PZ5m5Tdx"
      },
      "execution_count": 8,
      "outputs": []
    },
    {
      "cell_type": "code",
      "source": [
        "df.drop(columns=['A_id'], inplace=True)"
      ],
      "metadata": {
        "id": "7FW_9X0v0XX9"
      },
      "execution_count": 9,
      "outputs": []
    },
    {
      "cell_type": "code",
      "source": [
        "df.info()"
      ],
      "metadata": {
        "colab": {
          "base_uri": "https://localhost:8080/"
        },
        "id": "o8ixdzhf5R_Y",
        "outputId": "c4276c1c-f495-470b-acfc-6f23fc823012"
      },
      "execution_count": 10,
      "outputs": [
        {
          "output_type": "stream",
          "name": "stdout",
          "text": [
            "<class 'pandas.core.frame.DataFrame'>\n",
            "RangeIndex: 4001 entries, 0 to 4000\n",
            "Data columns (total 8 columns):\n",
            " #   Column       Non-Null Count  Dtype  \n",
            "---  ------       --------------  -----  \n",
            " 0   Size         4000 non-null   float64\n",
            " 1   Weight       4000 non-null   float64\n",
            " 2   Sweetness    4000 non-null   float64\n",
            " 3   Crunchiness  4000 non-null   float64\n",
            " 4   Juiciness    4000 non-null   float64\n",
            " 5   Ripeness     4000 non-null   float64\n",
            " 6   Acidity      4001 non-null   float64\n",
            " 7   Quality      4001 non-null   int64  \n",
            "dtypes: float64(7), int64(1)\n",
            "memory usage: 250.2 KB\n"
          ]
        }
      ]
    },
    {
      "cell_type": "code",
      "source": [
        "X = df.drop(\"Quality\", axis=1)\n",
        "Y = df[\"Quality\"]\n",
        "X = X.astype(np.float32)"
      ],
      "metadata": {
        "id": "tCLeqW_l0kT-"
      },
      "execution_count": 11,
      "outputs": []
    },
    {
      "cell_type": "code",
      "source": [
        "X_train, X_test, Y_train, Y_test = train_test_split(X, Y, test_size = 0.25)"
      ],
      "metadata": {
        "id": "d1Sp0T--1NO3"
      },
      "execution_count": 12,
      "outputs": []
    },
    {
      "cell_type": "code",
      "source": [
        "Y_train = Y_train.astype(np.float32)\n",
        "Y_test = Y_test.astype(np.float32)"
      ],
      "metadata": {
        "id": "vbRcRXUT9bjE"
      },
      "execution_count": 13,
      "outputs": []
    },
    {
      "cell_type": "code",
      "source": [
        "model = Sequential([\n",
        "    Dense(32, activation='relu', input_shape=(7,)),\n",
        "    Dense(32, activation='relu'),\n",
        "    Dense(1, activation='sigmoid'),\n",
        "])"
      ],
      "metadata": {
        "id": "FYbBB3_C2DZW"
      },
      "execution_count": 14,
      "outputs": []
    },
    {
      "cell_type": "code",
      "source": [
        "model.summary()"
      ],
      "metadata": {
        "colab": {
          "base_uri": "https://localhost:8080/"
        },
        "id": "s_eQpKIa4lO1",
        "outputId": "8a685938-8c06-4b71-9687-f6bd98c33a7c"
      },
      "execution_count": 15,
      "outputs": [
        {
          "output_type": "stream",
          "name": "stdout",
          "text": [
            "Model: \"sequential\"\n",
            "_________________________________________________________________\n",
            " Layer (type)                Output Shape              Param #   \n",
            "=================================================================\n",
            " dense (Dense)               (None, 32)                256       \n",
            "                                                                 \n",
            " dense_1 (Dense)             (None, 32)                1056      \n",
            "                                                                 \n",
            " dense_2 (Dense)             (None, 1)                 33        \n",
            "                                                                 \n",
            "=================================================================\n",
            "Total params: 1345 (5.25 KB)\n",
            "Trainable params: 1345 (5.25 KB)\n",
            "Non-trainable params: 0 (0.00 Byte)\n",
            "_________________________________________________________________\n"
          ]
        }
      ]
    },
    {
      "cell_type": "code",
      "source": [
        "model.compile(\n",
        "    optimizer='sgd',\n",
        "    loss='binary_crossentropy',\n",
        "    metrics=['accuracy']\n",
        ")"
      ],
      "metadata": {
        "id": "1onTgS2B4fq4"
      },
      "execution_count": 16,
      "outputs": []
    },
    {
      "cell_type": "code",
      "source": [
        "plot_model(model, show_shapes = True)"
      ],
      "metadata": {
        "colab": {
          "base_uri": "https://localhost:8080/",
          "height": 422
        },
        "id": "8FuYOXzJAEfr",
        "outputId": "bc34acd0-437f-46e6-f2bb-442328d59064"
      },
      "execution_count": 17,
      "outputs": [
        {
          "output_type": "execute_result",
          "data": {
            "image/png": "[encoded data removed]",
            "text/plain": [
              "<IPython.core.display.Image object>"
            ]
          },
          "metadata": {},
          "execution_count": 17
        }
      ]
    },
    {
      "cell_type": "code",
      "source": [
        "result = model.fit(X_train, Y_train, epochs = 150, batch_size = 10)"
      ],
      "metadata": {
        "colab": {
          "base_uri": "https://localhost:8080/"
        },
        "id": "1QVSKod54ocp",
        "outputId": "6c599284-7c5b-4bf8-d587-9e8761af3841"
      },
      "execution_count": 18,
      "outputs": [
        {
          "output_type": "stream",
          "name": "stdout",
          "text": [
            "Epoch 1/150\n",
            "300/300 [==============================] - 1s 2ms/step - loss: 0.5584 - accuracy: 0.7170\n",
            "Epoch 2/150\n",
            "300/300 [==============================] - 1s 2ms/step - loss: 0.4366 - accuracy: 0.8053\n",
            "Epoch 3/150\n",
            "300/300 [==============================] - 1s 2ms/step - loss: 0.3880 - accuracy: 0.8293\n",
            "Epoch 4/150\n",
            "300/300 [==============================] - 1s 2ms/step - loss: 0.3588 - accuracy: 0.8400\n",
            "Epoch 5/150\n",
            "300/300 [==============================] - 1s 2ms/step - loss: 0.3402 - accuracy: 0.8530\n",
            "Epoch 6/150\n",
            "300/300 [==============================] - 1s 2ms/step - loss: 0.3267 - accuracy: 0.8587\n",
            "Epoch 7/150\n",
            "300/300 [==============================] - 1s 2ms/step - loss: 0.3161 - accuracy: 0.8660\n",
            "Epoch 8/150\n",
            "300/300 [==============================] - 1s 2ms/step - loss: 0.3081 - accuracy: 0.8670\n",
            "Epoch 9/150\n",
            "300/300 [==============================] - 1s 2ms/step - loss: 0.3013 - accuracy: 0.8687\n",
            "Epoch 10/150\n",
            "300/300 [==============================] - 1s 2ms/step - loss: 0.2960 - accuracy: 0.8743\n",
            "Epoch 11/150\n",
            "300/300 [==============================] - 1s 2ms/step - loss: 0.2924 - accuracy: 0.8773\n",
            "Epoch 12/150\n",
            "300/300 [==============================] - 1s 2ms/step - loss: 0.2892 - accuracy: 0.8770\n",
            "Epoch 13/150\n",
            "300/300 [==============================] - 1s 2ms/step - loss: 0.2851 - accuracy: 0.8790\n",
            "Epoch 14/150\n",
            "300/300 [==============================] - 1s 3ms/step - loss: 0.2830 - accuracy: 0.8817\n",
            "Epoch 15/150\n",
            "300/300 [==============================] - 1s 3ms/step - loss: 0.2782 - accuracy: 0.8833\n",
            "Epoch 16/150\n",
            "300/300 [==============================] - 1s 3ms/step - loss: 0.2772 - accuracy: 0.8840\n",
            "Epoch 17/150\n",
            "300/300 [==============================] - 1s 3ms/step - loss: 0.2736 - accuracy: 0.8820\n",
            "Epoch 18/150\n",
            "300/300 [==============================] - 1s 2ms/step - loss: 0.2717 - accuracy: 0.8870\n",
            "Epoch 19/150\n",
            "300/300 [==============================] - 1s 2ms/step - loss: 0.2689 - accuracy: 0.8880\n",
            "Epoch 20/150\n",
            "300/300 [==============================] - 1s 2ms/step - loss: 0.2665 - accuracy: 0.8900\n",
            "Epoch 21/150\n",
            "300/300 [==============================] - 1s 2ms/step - loss: 0.2645 - accuracy: 0.8907\n",
            "Epoch 22/150\n",
            "300/300 [==============================] - 1s 2ms/step - loss: 0.2630 - accuracy: 0.8923\n",
            "Epoch 23/150\n",
            "300/300 [==============================] - 1s 2ms/step - loss: 0.2606 - accuracy: 0.8883\n",
            "Epoch 24/150\n",
            "300/300 [==============================] - 1s 2ms/step - loss: 0.2576 - accuracy: 0.8940\n",
            "Epoch 25/150\n",
            "300/300 [==============================] - 1s 2ms/step - loss: 0.2543 - accuracy: 0.8887\n",
            "Epoch 26/150\n",
            "300/300 [==============================] - 1s 2ms/step - loss: 0.2539 - accuracy: 0.8910\n",
            "Epoch 27/150\n",
            "300/300 [==============================] - 1s 2ms/step - loss: 0.2508 - accuracy: 0.8953\n",
            "Epoch 28/150\n",
            "300/300 [==============================] - 1s 2ms/step - loss: 0.2499 - accuracy: 0.8977\n",
            "Epoch 29/150\n",
            "300/300 [==============================] - 1s 2ms/step - loss: 0.2473 - accuracy: 0.8933\n",
            "Epoch 30/150\n",
            "300/300 [==============================] - 1s 2ms/step - loss: 0.2456 - accuracy: 0.8940\n",
            "Epoch 31/150\n",
            "300/300 [==============================] - 1s 2ms/step - loss: 0.2433 - accuracy: 0.9003\n",
            "Epoch 32/150\n",
            "300/300 [==============================] - 1s 2ms/step - loss: 0.2408 - accuracy: 0.9013\n",
            "Epoch 33/150\n",
            "300/300 [==============================] - 1s 4ms/step - loss: 0.2391 - accuracy: 0.9023\n",
            "Epoch 34/150\n",
            "300/300 [==============================] - 2s 7ms/step - loss: 0.2369 - accuracy: 0.9033\n",
            "Epoch 35/150\n",
            "300/300 [==============================] - 2s 8ms/step - loss: 0.2339 - accuracy: 0.9057\n",
            "Epoch 36/150\n",
            "300/300 [==============================] - 1s 5ms/step - loss: 0.2307 - accuracy: 0.9050\n",
            "Epoch 37/150\n",
            "300/300 [==============================] - 1s 3ms/step - loss: 0.2307 - accuracy: 0.9050\n",
            "Epoch 38/150\n",
            "300/300 [==============================] - 1s 4ms/step - loss: 0.2290 - accuracy: 0.9017\n",
            "Epoch 39/150\n",
            "300/300 [==============================] - 1s 5ms/step - loss: 0.2265 - accuracy: 0.9063\n",
            "Epoch 40/150\n",
            "300/300 [==============================] - 1s 4ms/step - loss: 0.2242 - accuracy: 0.9027\n",
            "Epoch 41/150\n",
            "300/300 [==============================] - 1s 4ms/step - loss: 0.2223 - accuracy: 0.9110\n",
            "Epoch 42/150\n",
            "300/300 [==============================] - 2s 6ms/step - loss: 0.2194 - accuracy: 0.9083\n",
            "Epoch 43/150\n",
            "300/300 [==============================] - 1s 4ms/step - loss: 0.2191 - accuracy: 0.9063\n",
            "Epoch 44/150\n",
            "300/300 [==============================] - 2s 7ms/step - loss: 0.2153 - accuracy: 0.9127\n",
            "Epoch 45/150\n",
            "300/300 [==============================] - 2s 7ms/step - loss: 0.2144 - accuracy: 0.9127\n",
            "Epoch 46/150\n",
            "300/300 [==============================] - 1s 3ms/step - loss: 0.2119 - accuracy: 0.9120\n",
            "Epoch 47/150\n",
            "300/300 [==============================] - 1s 2ms/step - loss: 0.2114 - accuracy: 0.9123\n",
            "Epoch 48/150\n",
            "300/300 [==============================] - 1s 2ms/step - loss: 0.2099 - accuracy: 0.9140\n",
            "Epoch 49/150\n",
            "300/300 [==============================] - 1s 2ms/step - loss: 0.2069 - accuracy: 0.9127\n",
            "Epoch 50/150\n",
            "300/300 [==============================] - 1s 2ms/step - loss: 0.2048 - accuracy: 0.9153\n",
            "Epoch 51/150\n",
            "300/300 [==============================] - 1s 2ms/step - loss: 0.2035 - accuracy: 0.9170\n",
            "Epoch 52/150\n",
            "300/300 [==============================] - 1s 2ms/step - loss: 0.2022 - accuracy: 0.9187\n",
            "Epoch 53/150\n",
            "300/300 [==============================] - 1s 2ms/step - loss: 0.2004 - accuracy: 0.9183\n",
            "Epoch 54/150\n",
            "300/300 [==============================] - 1s 2ms/step - loss: 0.1983 - accuracy: 0.9197\n",
            "Epoch 55/150\n",
            "300/300 [==============================] - 1s 2ms/step - loss: 0.1982 - accuracy: 0.9210\n",
            "Epoch 56/150\n",
            "300/300 [==============================] - 1s 2ms/step - loss: 0.1957 - accuracy: 0.9200\n",
            "Epoch 57/150\n",
            "300/300 [==============================] - 1s 2ms/step - loss: 0.1933 - accuracy: 0.9207\n",
            "Epoch 58/150\n",
            "300/300 [==============================] - 1s 2ms/step - loss: 0.1922 - accuracy: 0.9223\n",
            "Epoch 59/150\n",
            "300/300 [==============================] - 1s 2ms/step - loss: 0.1894 - accuracy: 0.9257\n",
            "Epoch 60/150\n",
            "300/300 [==============================] - 1s 2ms/step - loss: 0.1899 - accuracy: 0.9223\n",
            "Epoch 61/150\n",
            "300/300 [==============================] - 1s 2ms/step - loss: 0.1872 - accuracy: 0.9260\n",
            "Epoch 62/150\n",
            "300/300 [==============================] - 1s 2ms/step - loss: 0.1866 - accuracy: 0.9280\n",
            "Epoch 63/150\n",
            "300/300 [==============================] - 1s 3ms/step - loss: 0.1852 - accuracy: 0.9290\n",
            "Epoch 64/150\n",
            "300/300 [==============================] - 1s 3ms/step - loss: 0.1842 - accuracy: 0.9273\n",
            "Epoch 65/150\n",
            "300/300 [==============================] - 1s 3ms/step - loss: 0.1808 - accuracy: 0.9257\n",
            "Epoch 66/150\n",
            "300/300 [==============================] - 1s 3ms/step - loss: 0.1799 - accuracy: 0.9277\n",
            "Epoch 67/150\n",
            "300/300 [==============================] - 1s 2ms/step - loss: 0.1778 - accuracy: 0.9320\n",
            "Epoch 68/150\n",
            "300/300 [==============================] - 1s 2ms/step - loss: 0.1761 - accuracy: 0.9310\n",
            "Epoch 69/150\n",
            "300/300 [==============================] - 1s 2ms/step - loss: 0.1779 - accuracy: 0.9283\n",
            "Epoch 70/150\n",
            "300/300 [==============================] - 1s 2ms/step - loss: 0.1751 - accuracy: 0.9323\n",
            "Epoch 71/150\n",
            "300/300 [==============================] - 1s 2ms/step - loss: 0.1744 - accuracy: 0.9337\n",
            "Epoch 72/150\n",
            "300/300 [==============================] - 1s 2ms/step - loss: 0.1726 - accuracy: 0.9313\n",
            "Epoch 73/150\n",
            "300/300 [==============================] - 1s 2ms/step - loss: 0.1693 - accuracy: 0.9367\n",
            "Epoch 74/150\n",
            "300/300 [==============================] - 1s 2ms/step - loss: 0.1672 - accuracy: 0.9350\n",
            "Epoch 75/150\n",
            "300/300 [==============================] - 1s 2ms/step - loss: 0.1686 - accuracy: 0.9323\n",
            "Epoch 76/150\n",
            "300/300 [==============================] - 1s 2ms/step - loss: 0.1663 - accuracy: 0.9340\n",
            "Epoch 77/150\n",
            "300/300 [==============================] - 1s 2ms/step - loss: 0.1656 - accuracy: 0.9380\n",
            "Epoch 78/150\n",
            "300/300 [==============================] - 1s 2ms/step - loss: 0.1632 - accuracy: 0.9400\n",
            "Epoch 79/150\n",
            "300/300 [==============================] - 1s 2ms/step - loss: 0.1631 - accuracy: 0.9367\n",
            "Epoch 80/150\n",
            "300/300 [==============================] - 1s 2ms/step - loss: 0.1602 - accuracy: 0.9380\n",
            "Epoch 81/150\n",
            "300/300 [==============================] - 1s 2ms/step - loss: 0.1602 - accuracy: 0.9390\n",
            "Epoch 82/150\n",
            "300/300 [==============================] - 1s 2ms/step - loss: 0.1599 - accuracy: 0.9350\n",
            "Epoch 83/150\n",
            "300/300 [==============================] - 1s 2ms/step - loss: 0.1586 - accuracy: 0.9400\n",
            "Epoch 84/150\n",
            "300/300 [==============================] - 1s 3ms/step - loss: 0.1576 - accuracy: 0.9423\n",
            "Epoch 85/150\n",
            "300/300 [==============================] - 1s 3ms/step - loss: 0.1543 - accuracy: 0.9400\n",
            "Epoch 86/150\n",
            "300/300 [==============================] - 1s 3ms/step - loss: 0.1544 - accuracy: 0.9383\n",
            "Epoch 87/150\n",
            "300/300 [==============================] - 1s 2ms/step - loss: 0.1530 - accuracy: 0.9403\n",
            "Epoch 88/150\n",
            "300/300 [==============================] - 1s 2ms/step - loss: 0.1540 - accuracy: 0.9407\n",
            "Epoch 89/150\n",
            "300/300 [==============================] - 1s 2ms/step - loss: 0.1492 - accuracy: 0.9450\n",
            "Epoch 90/150\n",
            "300/300 [==============================] - 1s 2ms/step - loss: 0.1497 - accuracy: 0.9430\n",
            "Epoch 91/150\n",
            "300/300 [==============================] - 1s 2ms/step - loss: 0.1505 - accuracy: 0.9423\n",
            "Epoch 92/150\n",
            "300/300 [==============================] - 1s 2ms/step - loss: 0.1489 - accuracy: 0.9427\n",
            "Epoch 93/150\n",
            "300/300 [==============================] - 1s 2ms/step - loss: 0.1486 - accuracy: 0.9410\n",
            "Epoch 94/150\n",
            "300/300 [==============================] - 1s 2ms/step - loss: 0.1459 - accuracy: 0.9467\n",
            "Epoch 95/150\n",
            "300/300 [==============================] - 1s 2ms/step - loss: 0.1444 - accuracy: 0.9410\n",
            "Epoch 96/150\n",
            "300/300 [==============================] - 1s 2ms/step - loss: 0.1456 - accuracy: 0.9450\n",
            "Epoch 97/150\n",
            "300/300 [==============================] - 1s 2ms/step - loss: 0.1421 - accuracy: 0.9437\n",
            "Epoch 98/150\n",
            "300/300 [==============================] - 1s 2ms/step - loss: 0.1418 - accuracy: 0.9457\n",
            "Epoch 99/150\n",
            "300/300 [==============================] - 1s 2ms/step - loss: 0.1419 - accuracy: 0.9473\n",
            "Epoch 100/150\n",
            "300/300 [==============================] - 1s 2ms/step - loss: 0.1412 - accuracy: 0.9470\n",
            "Epoch 101/150\n",
            "300/300 [==============================] - 1s 2ms/step - loss: 0.1393 - accuracy: 0.9473\n",
            "Epoch 102/150\n",
            "300/300 [==============================] - 1s 2ms/step - loss: 0.1404 - accuracy: 0.9467\n",
            "Epoch 103/150\n",
            "300/300 [==============================] - 1s 2ms/step - loss: 0.1372 - accuracy: 0.9450\n",
            "Epoch 104/150\n",
            "300/300 [==============================] - 1s 2ms/step - loss: 0.1364 - accuracy: 0.9487\n",
            "Epoch 105/150\n",
            "300/300 [==============================] - 1s 3ms/step - loss: 0.1368 - accuracy: 0.9473\n",
            "Epoch 106/150\n",
            "300/300 [==============================] - 1s 3ms/step - loss: 0.1367 - accuracy: 0.9490\n",
            "Epoch 107/150\n",
            "300/300 [==============================] - 1s 3ms/step - loss: 0.1350 - accuracy: 0.9517\n",
            "Epoch 108/150\n",
            "300/300 [==============================] - 1s 3ms/step - loss: 0.1352 - accuracy: 0.9483\n",
            "Epoch 109/150\n",
            "300/300 [==============================] - 1s 2ms/step - loss: 0.1350 - accuracy: 0.9463\n",
            "Epoch 110/150\n",
            "300/300 [==============================] - 1s 2ms/step - loss: 0.1317 - accuracy: 0.9487\n",
            "Epoch 111/150\n",
            "300/300 [==============================] - 1s 2ms/step - loss: 0.1312 - accuracy: 0.9480\n",
            "Epoch 112/150\n",
            "300/300 [==============================] - 1s 3ms/step - loss: 0.1293 - accuracy: 0.9497\n",
            "Epoch 113/150\n",
            "300/300 [==============================] - 1s 3ms/step - loss: 0.1288 - accuracy: 0.9497\n",
            "Epoch 114/150\n",
            "300/300 [==============================] - 1s 3ms/step - loss: 0.1297 - accuracy: 0.9517\n",
            "Epoch 115/150\n",
            "300/300 [==============================] - 1s 2ms/step - loss: 0.1300 - accuracy: 0.9507\n",
            "Epoch 116/150\n",
            "300/300 [==============================] - 1s 2ms/step - loss: 0.1271 - accuracy: 0.9527\n",
            "Epoch 117/150\n",
            "300/300 [==============================] - 1s 2ms/step - loss: 0.1280 - accuracy: 0.9537\n",
            "Epoch 118/150\n",
            "300/300 [==============================] - 1s 2ms/step - loss: 0.1268 - accuracy: 0.9513\n",
            "Epoch 119/150\n",
            "300/300 [==============================] - 1s 2ms/step - loss: 0.1254 - accuracy: 0.9503\n",
            "Epoch 120/150\n",
            "300/300 [==============================] - 1s 2ms/step - loss: 0.1263 - accuracy: 0.9520\n",
            "Epoch 121/150\n",
            "300/300 [==============================] - 1s 2ms/step - loss: 0.1264 - accuracy: 0.9493\n",
            "Epoch 122/150\n",
            "300/300 [==============================] - 1s 2ms/step - loss: 0.1253 - accuracy: 0.9530\n",
            "Epoch 123/150\n",
            "300/300 [==============================] - 1s 2ms/step - loss: 0.1242 - accuracy: 0.9527\n",
            "Epoch 124/150\n",
            "300/300 [==============================] - 1s 3ms/step - loss: 0.1216 - accuracy: 0.9527\n",
            "Epoch 125/150\n",
            "300/300 [==============================] - 1s 3ms/step - loss: 0.1207 - accuracy: 0.9533\n",
            "Epoch 126/150\n",
            "300/300 [==============================] - 1s 3ms/step - loss: 0.1195 - accuracy: 0.9533\n",
            "Epoch 127/150\n",
            "300/300 [==============================] - 1s 3ms/step - loss: 0.1216 - accuracy: 0.9527\n",
            "Epoch 128/150\n",
            "300/300 [==============================] - 1s 2ms/step - loss: 0.1215 - accuracy: 0.9537\n",
            "Epoch 129/150\n",
            "300/300 [==============================] - 1s 2ms/step - loss: 0.1207 - accuracy: 0.9567\n",
            "Epoch 130/150\n",
            "300/300 [==============================] - 1s 2ms/step - loss: 0.1212 - accuracy: 0.9547\n",
            "Epoch 131/150\n",
            "300/300 [==============================] - 1s 2ms/step - loss: 0.1187 - accuracy: 0.9560\n",
            "Epoch 132/150\n",
            "300/300 [==============================] - 1s 2ms/step - loss: 0.1163 - accuracy: 0.9573\n",
            "Epoch 133/150\n",
            "300/300 [==============================] - 1s 2ms/step - loss: 0.1179 - accuracy: 0.9540\n",
            "Epoch 134/150\n",
            "300/300 [==============================] - 1s 2ms/step - loss: 0.1133 - accuracy: 0.9577\n",
            "Epoch 135/150\n",
            "300/300 [==============================] - 1s 2ms/step - loss: 0.1166 - accuracy: 0.9567\n",
            "Epoch 136/150\n",
            "300/300 [==============================] - 1s 2ms/step - loss: 0.1134 - accuracy: 0.9593\n",
            "Epoch 137/150\n",
            "300/300 [==============================] - 1s 2ms/step - loss: 0.1152 - accuracy: 0.9560\n",
            "Epoch 138/150\n",
            "300/300 [==============================] - 1s 2ms/step - loss: 0.1176 - accuracy: 0.9543\n",
            "Epoch 139/150\n",
            "300/300 [==============================] - 1s 2ms/step - loss: 0.1145 - accuracy: 0.9587\n",
            "Epoch 140/150\n",
            "300/300 [==============================] - 1s 2ms/step - loss: 0.1144 - accuracy: 0.9567\n",
            "Epoch 141/150\n",
            "300/300 [==============================] - 1s 2ms/step - loss: 0.1138 - accuracy: 0.9573\n",
            "Epoch 142/150\n",
            "300/300 [==============================] - 1s 2ms/step - loss: 0.1130 - accuracy: 0.9603\n",
            "Epoch 143/150\n",
            "300/300 [==============================] - 1s 2ms/step - loss: 0.1133 - accuracy: 0.9560\n",
            "Epoch 144/150\n",
            "300/300 [==============================] - 1s 2ms/step - loss: 0.1128 - accuracy: 0.9587\n",
            "Epoch 145/150\n",
            "300/300 [==============================] - 1s 2ms/step - loss: 0.1139 - accuracy: 0.9587\n",
            "Epoch 146/150\n",
            "300/300 [==============================] - 1s 3ms/step - loss: 0.1099 - accuracy: 0.9560\n",
            "Epoch 147/150\n",
            "300/300 [==============================] - 1s 3ms/step - loss: 0.1101 - accuracy: 0.9613\n",
            "Epoch 148/150\n",
            "300/300 [==============================] - 1s 3ms/step - loss: 0.1105 - accuracy: 0.9613\n",
            "Epoch 149/150\n",
            "300/300 [==============================] - 1s 3ms/step - loss: 0.1102 - accuracy: 0.9597\n",
            "Epoch 150/150\n",
            "300/300 [==============================] - 1s 2ms/step - loss: 0.1103 - accuracy: 0.9580\n"
          ]
        }
      ]
    },
    {
      "cell_type": "code",
      "source": [
        "model.evaluate(X_test, Y_test)"
      ],
      "metadata": {
        "colab": {
          "base_uri": "https://localhost:8080/"
        },
        "id": "mIRPM54BBEb3",
        "outputId": "92c8a099-884f-4cbe-99b4-756cdc5d22cc"
      },
      "execution_count": 19,
      "outputs": [
        {
          "output_type": "stream",
          "name": "stdout",
          "text": [
            "32/32 [==============================] - 0s 3ms/step - loss: nan - accuracy: 0.9341\n"
          ]
        },
        {
          "output_type": "execute_result",
          "data": {
            "text/plain": [
              "[nan, 0.9340659379959106]"
            ]
          },
          "metadata": {},
          "execution_count": 19
        }
      ]
    },
    {
      "cell_type": "code",
      "source": [
        "model.save('./apple.h5')"
      ],
      "metadata": {
        "id": "EDF3B8DgC3Kw",
        "colab": {
          "base_uri": "https://localhost:8080/"
        },
        "outputId": "ec090dcc-0c93-43d4-b63d-89a5f83b17c6"
      },
      "execution_count": 20,
      "outputs": [
        {
          "output_type": "stream",
          "name": "stderr",
          "text": [
            "/usr/local/lib/python3.10/dist-packages/keras/src/engine/training.py:3103: UserWarning: You are saving your model as an HDF5 file via `model.save()`. This file format is considered legacy. We recommend using instead the native Keras format, e.g. `model.save('my_model.keras')`.\n",
            "  saving_api.save_model(\n"
          ]
        }
      ]
    },
    {
      "cell_type": "code",
      "source": [
        "model = tf.keras.models.load_model('./apple.h5')\n",
        "converter = tf.lite.TFLiteConverter.from_keras_model(model)\n",
        "converter.optimizations = [tf.lite.Optimize.DEFAULT]\n",
        "tflite_model = converter.convert()\n",
        "open(\"./apple.tflite\", \"wb\").write(tflite_model)"
      ],
      "metadata": {
        "colab": {
          "base_uri": "https://localhost:8080/"
        },
        "id": "KKny5b8jDDus",
        "outputId": "ef01c458-70bb-4a1d-bb2c-31acaa67191e"
      },
      "execution_count": 24,
      "outputs": [
        {
          "output_type": "execute_result",
          "data": {
            "text/plain": [
              "4472"
            ]
          },
          "metadata": {},
          "execution_count": 24
        }
      ]
    }
  ]
}